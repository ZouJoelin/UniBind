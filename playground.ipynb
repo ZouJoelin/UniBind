{
 "cells": [
  {
   "cell_type": "code",
   "execution_count": 2,
   "metadata": {},
   "outputs": [
    {
     "data": {
      "text/plain": [
       "array([ True, False,  True, False,  True])"
      ]
     },
     "execution_count": 2,
     "metadata": {},
     "output_type": "execute_result"
    }
   ],
   "source": [
    "import numpy as np\n",
    "\n",
    "a = np.array([1, 2, 3, 4, 5])\n",
    "b = np.array([1, 3, 5])\n",
    "np.isin(a, b)"
   ]
  },
  {
   "cell_type": "code",
   "execution_count": 5,
   "metadata": {},
   "outputs": [],
   "source": [
    "isin = [False, False, False, False, False, False, False, False, False,\n",
    "       False, False, False, False,  True,  True,  True,  True, False,\n",
    "       False, False, False, False, False, False, False, False, False,\n",
    "        True,  True,  True,  True,  True,  True, False, False, False,\n",
    "        True,  True,  True,  True,  True,  True,  True, False, False,\n",
    "       False, False, False, False, False,  True,  True,  True,  True,\n",
    "        True,  True,  True,  True, False, False, False, False, False,\n",
    "       False, False, False, False, False, False, False, False, False,\n",
    "       False, False, False, False, False, False, False, False, False,\n",
    "       False, False, False, False, False, False, False, False, False,\n",
    "       False,  True,  True,  True,  True,  True,  True,  True,  True,\n",
    "        True,  True,  True, False, False, False, False, False, False,\n",
    "       False, False, False, False, False, False, False, False, False,\n",
    "       False, False, False, False, False, False, False, False, False,\n",
    "       False, False, False, False, False, False, False, False,  True,\n",
    "        True,  True,  True,  True,  True,  True,  True,  True,  True,\n",
    "        True,  True,  True,  True, False, False,  True,  True,  True,\n",
    "        True, False,  True, False, False, False, False, False, False,\n",
    "       False, False, False, False,  True,  True, False, False,  True,\n",
    "        True, False, False,  True,  True,  True,  True,  True,  True,\n",
    "        True, False, False,  True,  True,  True,  True,  True,  True,\n",
    "        True,  True,  True,  True,  True,  True,  True, False, False,\n",
    "       False, False, False, False, False, False, False,  True,  True,\n",
    "        True,  True,  True,  True,  True,  True,  True,  True,  True,\n",
    "        True,  True,  True,  True,  True,  True,  True,  True,  True,\n",
    "        True,  True, False, False, False, False, False, False, False,\n",
    "       False, False, False, False, False, False, False, False, False,\n",
    "       False, False, False, False, False, False, False, False, False,\n",
    "       False, False, False, False, False, False, False, False, False,\n",
    "       False, False, False, False, False,  True,  True,  True,  True,\n",
    "        True,  True,  True,  True,  True,  True,  True,  True,  True,\n",
    "        True,  True,  True,  True,  True,  True,  True,  True,  True,\n",
    "        True, False, False, False, False, False, False, False, False,\n",
    "       False, False, False,  True,  True,  True,  True]\n",
    "isin = np.array(isin, dtype=bool)\n"
   ]
  },
  {
   "cell_type": "code",
   "execution_count": 6,
   "metadata": {},
   "outputs": [
    {
     "data": {
      "text/plain": [
       "128"
      ]
     },
     "execution_count": 6,
     "metadata": {},
     "output_type": "execute_result"
    }
   ],
   "source": [
    "isin.sum()"
   ]
  },
  {
   "cell_type": "code",
   "execution_count": 11,
   "metadata": {},
   "outputs": [
    {
     "data": {
      "text/plain": [
       "array([[ True,  True,  True, ...,  True,  True,  True],\n",
       "       [ True,  True,  True, ...,  True,  True,  True],\n",
       "       [ True,  True,  True, ...,  True,  True,  True],\n",
       "       ...,\n",
       "       [ True,  True,  True, ...,  True,  True,  True],\n",
       "       [ True,  True,  True, ...,  True,  True,  True],\n",
       "       [ True,  True,  True, ...,  True,  True,  True]])"
      ]
     },
     "execution_count": 11,
     "metadata": {},
     "output_type": "execute_result"
    }
   ],
   "source": [
    "isin[None, :] == isin[:, None]"
   ]
  },
  {
   "cell_type": "code",
   "execution_count": 24,
   "metadata": {},
   "outputs": [],
   "source": [
    "import torch\n",
    "\n",
    "def get_neighbors(a, neighbors):\n",
    "    \"\"\"\n",
    "    a: B x L\n",
    "    neighbors: B x L\n",
    "    result: B x L x M\n",
    "    \"\"\"\n",
    "    B, L = a.shape\n",
    "    a = a[:, :, None].expand(-1, -1, L)  # Extend a to shape B x L x M\n",
    "    result = a.gather(2, neighbors)\n",
    "    return result\n",
    "\n",
    "# 示例数据\n",
    "a = torch.tensor([[0,0,0,0,0,0,0,0],\n",
    "                  [0,0,0,0,0,0,0,0],\n",
    "                  [0,0,0,0,0,0,0,0],\n",
    "                  [0,0,0,0,0,0,0,0]])  # Shape (4, 8)\n",
    "\n",
    "neighbors = torch.tensor([list(range(8)),\n",
    "                          list(range(8)),\n",
    "                          list(range(8)),\n",
    "                          list(range(8))])  # Shape (4, 8)\n",
    "\n",
    "# result = get_neighbors(a, neighbors)\n",
    "# print(result)\n"
   ]
  },
  {
   "cell_type": "code",
   "execution_count": 25,
   "metadata": {},
   "outputs": [
    {
     "data": {
      "text/plain": [
       "torch.Size([4, 8, 8])"
      ]
     },
     "execution_count": 25,
     "metadata": {},
     "output_type": "execute_result"
    }
   ],
   "source": [
    "B, L = a.shape\n",
    "a = a[:, :, None].expand(-1, -1, L)  # Extend a to shape B x L x M\n",
    "a.shape"
   ]
  },
  {
   "cell_type": "code",
   "execution_count": null,
   "metadata": {},
   "outputs": [],
   "source": [
    "a = a[:, :, None].expand(-1, -1, L)  # Extend a to shape B x L x M\n",
    "a.shape"
   ]
  },
  {
   "cell_type": "code",
   "execution_count": 26,
   "metadata": {},
   "outputs": [
    {
     "ename": "RuntimeError",
     "evalue": "Index tensor must have the same number of dimensions as input tensor",
     "output_type": "error",
     "traceback": [
      "\u001b[0;31m---------------------------------------------------------------------------\u001b[0m",
      "\u001b[0;31mRuntimeError\u001b[0m                              Traceback (most recent call last)",
      "\u001b[1;32m/home/zoujl/UniBind/playground.ipynb 单元格 7\u001b[0m line \u001b[0;36m1\n\u001b[0;32m----> <a href='vscode-notebook-cell://ssh-remote%2Bgpu2/home/zoujl/UniBind/playground.ipynb#X12sdnNjb2RlLXJlbW90ZQ%3D%3D?line=0'>1</a>\u001b[0m result \u001b[39m=\u001b[39m a\u001b[39m.\u001b[39;49mgather(\u001b[39m1\u001b[39;49m, neighbors)\n\u001b[1;32m      <a href='vscode-notebook-cell://ssh-remote%2Bgpu2/home/zoujl/UniBind/playground.ipynb#X12sdnNjb2RlLXJlbW90ZQ%3D%3D?line=1'>2</a>\u001b[0m result\n",
      "\u001b[0;31mRuntimeError\u001b[0m: Index tensor must have the same number of dimensions as input tensor"
     ]
    }
   ],
   "source": [
    "\n",
    "result = a.gather(1, neighbors)\n",
    "result"
   ]
  },
  {
   "cell_type": "code",
   "execution_count": 10,
   "metadata": {},
   "outputs": [
    {
     "data": {
      "text/plain": [
       "tensor([[0, 1, 2, 3, 4, 5, 6, 7],\n",
       "        [0, 1, 2, 3, 4, 5, 6, 7],\n",
       "        [0, 1, 2, 3, 4, 5, 6, 7],\n",
       "        [0, 1, 2, 3, 4, 5, 6, 7]])"
      ]
     },
     "execution_count": 10,
     "metadata": {},
     "output_type": "execute_result"
    }
   ],
   "source": [
    "neighbors"
   ]
  },
  {
   "cell_type": "code",
   "execution_count": 19,
   "metadata": {},
   "outputs": [
    {
     "name": "stdout",
     "output_type": "stream",
     "text": [
      "tensor([[1, 8],\n",
      "        [7, 2],\n",
      "        [4, 8]])\n"
     ]
    }
   ],
   "source": [
    "import torch\n",
    "\n",
    "# 定义一个示例张量 a\n",
    "a = torch.tensor([[1, 2, 3],\n",
    "                  [4, 5, 6],\n",
    "                  [7, 8, 9],\n",
    "                  [10, 11, 12]])\n",
    "\n",
    "# 定义索引张量 index\n",
    "index = torch.tensor([[0, 2],\n",
    "                      [2, 0],\n",
    "                      [1, 2],])\n",
    "\n",
    "# 使用 gather 函数\n",
    "result = a.gather(0, index)\n",
    "\n",
    "print(result)\n"
   ]
  },
  {
   "cell_type": "code",
   "execution_count": null,
   "metadata": {},
   "outputs": [],
   "source": []
  }
 ],
 "metadata": {
  "language_info": {
   "name": "python"
  }
 },
 "nbformat": 4,
 "nbformat_minor": 2
}
